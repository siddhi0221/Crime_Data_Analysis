{
 "cells": [
  {
   "cell_type": "code",
   "execution_count": 123,
   "id": "7da9d5fc",
   "metadata": {},
   "outputs": [
    {
     "name": "stdout",
     "output_type": "stream",
     "text": [
      "Requirement already satisfied: matplotlib in c:\\users\\siddhi\\appdata\\local\\programs\\python\\python36\\lib\\site-packages (3.3.4)\n",
      "Requirement already satisfied: python-dateutil>=2.1 in c:\\users\\siddhi\\appdata\\local\\programs\\python\\python36\\lib\\site-packages (from matplotlib) (2.9.0.post0)\n",
      "Requirement already satisfied: pillow>=6.2.0 in c:\\users\\siddhi\\appdata\\local\\programs\\python\\python36\\lib\\site-packages (from matplotlib) (8.4.0)\n",
      "Requirement already satisfied: numpy>=1.15 in c:\\users\\siddhi\\appdata\\local\\programs\\python\\python36\\lib\\site-packages (from matplotlib) (1.19.5)\n",
      "Requirement already satisfied: kiwisolver>=1.0.1 in c:\\users\\siddhi\\appdata\\local\\programs\\python\\python36\\lib\\site-packages (from matplotlib) (1.3.1)\n",
      "Requirement already satisfied: cycler>=0.10 in c:\\users\\siddhi\\appdata\\local\\programs\\python\\python36\\lib\\site-packages (from matplotlib) (0.11.0)\n",
      "Requirement already satisfied: pyparsing!=2.0.4,!=2.1.2,!=2.1.6,>=2.0.3 in c:\\users\\siddhi\\appdata\\local\\programs\\python\\python36\\lib\\site-packages (from matplotlib) (3.0.7)\n",
      "Requirement already satisfied: six>=1.5 in c:\\users\\siddhi\\appdata\\local\\programs\\python\\python36\\lib\\site-packages (from python-dateutil>=2.1->matplotlib) (1.17.0)\n",
      "Requirement already satisfied: seaborn in c:\\users\\siddhi\\appdata\\local\\programs\\python\\python36\\lib\\site-packages (0.11.2)\n",
      "Requirement already satisfied: numpy>=1.15 in c:\\users\\siddhi\\appdata\\local\\programs\\python\\python36\\lib\\site-packages (from seaborn) (1.19.5)\n",
      "Requirement already satisfied: pandas>=0.23 in c:\\users\\siddhi\\appdata\\local\\programs\\python\\python36\\lib\\site-packages (from seaborn) (1.1.5)\n",
      "Requirement already satisfied: matplotlib>=2.2 in c:\\users\\siddhi\\appdata\\local\\programs\\python\\python36\\lib\\site-packages (from seaborn) (3.3.4)\n",
      "Requirement already satisfied: scipy>=1.0 in c:\\users\\siddhi\\appdata\\local\\programs\\python\\python36\\lib\\site-packages (from seaborn) (1.5.4)\n",
      "Requirement already satisfied: python-dateutil>=2.1 in c:\\users\\siddhi\\appdata\\local\\programs\\python\\python36\\lib\\site-packages (from matplotlib>=2.2->seaborn) (2.9.0.post0)\n",
      "Requirement already satisfied: cycler>=0.10 in c:\\users\\siddhi\\appdata\\local\\programs\\python\\python36\\lib\\site-packages (from matplotlib>=2.2->seaborn) (0.11.0)\n",
      "Requirement already satisfied: kiwisolver>=1.0.1 in c:\\users\\siddhi\\appdata\\local\\programs\\python\\python36\\lib\\site-packages (from matplotlib>=2.2->seaborn) (1.3.1)\n",
      "Requirement already satisfied: pyparsing!=2.0.4,!=2.1.2,!=2.1.6,>=2.0.3 in c:\\users\\siddhi\\appdata\\local\\programs\\python\\python36\\lib\\site-packages (from matplotlib>=2.2->seaborn) (3.0.7)\n",
      "Requirement already satisfied: pillow>=6.2.0 in c:\\users\\siddhi\\appdata\\local\\programs\\python\\python36\\lib\\site-packages (from matplotlib>=2.2->seaborn) (8.4.0)\n",
      "Requirement already satisfied: pytz>=2017.2 in c:\\users\\siddhi\\appdata\\local\\programs\\python\\python36\\lib\\site-packages (from pandas>=0.23->seaborn) (2024.2)\n",
      "Requirement already satisfied: six>=1.5 in c:\\users\\siddhi\\appdata\\local\\programs\\python\\python36\\lib\\site-packages (from python-dateutil>=2.1->matplotlib>=2.2->seaborn) (1.17.0)\n"
     ]
    }
   ],
   "source": [
    "!pip install matplotlib\n",
    "!pip install seaborn"
   ]
  },
  {
   "cell_type": "code",
   "execution_count": 124,
   "id": "b204671d",
   "metadata": {},
   "outputs": [],
   "source": [
    "import pandas as pd\n",
    "import numpy as np\n",
    "import matplotlib.pyplot as plt\n",
    "import seaborn as sns"
   ]
  },
  {
   "cell_type": "code",
   "execution_count": 125,
   "id": "77295581",
   "metadata": {},
   "outputs": [],
   "source": [
    "df=pd.read_csv(\"crime_dataset_india.csv\")"
   ]
  },
  {
   "cell_type": "code",
   "execution_count": 126,
   "id": "7df398fb",
   "metadata": {},
   "outputs": [
    {
     "data": {
      "text/html": [
       "<div>\n",
       "<style scoped>\n",
       "    .dataframe tbody tr th:only-of-type {\n",
       "        vertical-align: middle;\n",
       "    }\n",
       "\n",
       "    .dataframe tbody tr th {\n",
       "        vertical-align: top;\n",
       "    }\n",
       "\n",
       "    .dataframe thead th {\n",
       "        text-align: right;\n",
       "    }\n",
       "</style>\n",
       "<table border=\"1\" class=\"dataframe\">\n",
       "  <thead>\n",
       "    <tr style=\"text-align: right;\">\n",
       "      <th></th>\n",
       "      <th>Report Number</th>\n",
       "      <th>Date Reported</th>\n",
       "      <th>Date of Occurrence</th>\n",
       "      <th>Time of Occurrence</th>\n",
       "      <th>City</th>\n",
       "      <th>Crime Code</th>\n",
       "      <th>Crime Description</th>\n",
       "      <th>Victim Age</th>\n",
       "      <th>Victim Gender</th>\n",
       "      <th>Weapon Used</th>\n",
       "      <th>Crime Domain</th>\n",
       "      <th>Police Deployed</th>\n",
       "      <th>Case Closed</th>\n",
       "      <th>Date Case Closed</th>\n",
       "    </tr>\n",
       "  </thead>\n",
       "  <tbody>\n",
       "    <tr>\n",
       "      <th>0</th>\n",
       "      <td>1</td>\n",
       "      <td>02-01-2020 00:00</td>\n",
       "      <td>01-01-2020 00:00</td>\n",
       "      <td>01-01-2020 01:11</td>\n",
       "      <td>Ahmedabad</td>\n",
       "      <td>576</td>\n",
       "      <td>IDENTITY THEFT</td>\n",
       "      <td>16</td>\n",
       "      <td>M</td>\n",
       "      <td>Blunt Object</td>\n",
       "      <td>Violent Crime</td>\n",
       "      <td>13</td>\n",
       "      <td>No</td>\n",
       "      <td>NaN</td>\n",
       "    </tr>\n",
       "    <tr>\n",
       "      <th>1</th>\n",
       "      <td>2</td>\n",
       "      <td>01-01-2020 19:00</td>\n",
       "      <td>01-01-2020 01:00</td>\n",
       "      <td>01-01-2020 06:26</td>\n",
       "      <td>Chennai</td>\n",
       "      <td>128</td>\n",
       "      <td>HOMICIDE</td>\n",
       "      <td>37</td>\n",
       "      <td>M</td>\n",
       "      <td>Poison</td>\n",
       "      <td>Other Crime</td>\n",
       "      <td>9</td>\n",
       "      <td>No</td>\n",
       "      <td>NaN</td>\n",
       "    </tr>\n",
       "    <tr>\n",
       "      <th>2</th>\n",
       "      <td>3</td>\n",
       "      <td>02-01-2020 05:00</td>\n",
       "      <td>01-01-2020 02:00</td>\n",
       "      <td>01-01-2020 14:30</td>\n",
       "      <td>Ludhiana</td>\n",
       "      <td>271</td>\n",
       "      <td>KIDNAPPING</td>\n",
       "      <td>48</td>\n",
       "      <td>F</td>\n",
       "      <td>Blunt Object</td>\n",
       "      <td>Other Crime</td>\n",
       "      <td>15</td>\n",
       "      <td>No</td>\n",
       "      <td>NaN</td>\n",
       "    </tr>\n",
       "    <tr>\n",
       "      <th>3</th>\n",
       "      <td>4</td>\n",
       "      <td>01-01-2020 05:00</td>\n",
       "      <td>01-01-2020 03:00</td>\n",
       "      <td>01-01-2020 14:46</td>\n",
       "      <td>Pune</td>\n",
       "      <td>170</td>\n",
       "      <td>BURGLARY</td>\n",
       "      <td>49</td>\n",
       "      <td>F</td>\n",
       "      <td>Firearm</td>\n",
       "      <td>Other Crime</td>\n",
       "      <td>1</td>\n",
       "      <td>Yes</td>\n",
       "      <td>29-04-2020 05:00</td>\n",
       "    </tr>\n",
       "    <tr>\n",
       "      <th>4</th>\n",
       "      <td>5</td>\n",
       "      <td>01-01-2020 21:00</td>\n",
       "      <td>01-01-2020 04:00</td>\n",
       "      <td>01-01-2020 16:51</td>\n",
       "      <td>Pune</td>\n",
       "      <td>421</td>\n",
       "      <td>VANDALISM</td>\n",
       "      <td>30</td>\n",
       "      <td>F</td>\n",
       "      <td>Other</td>\n",
       "      <td>Other Crime</td>\n",
       "      <td>18</td>\n",
       "      <td>Yes</td>\n",
       "      <td>08-01-2020 21:00</td>\n",
       "    </tr>\n",
       "    <tr>\n",
       "      <th>...</th>\n",
       "      <td>...</td>\n",
       "      <td>...</td>\n",
       "      <td>...</td>\n",
       "      <td>...</td>\n",
       "      <td>...</td>\n",
       "      <td>...</td>\n",
       "      <td>...</td>\n",
       "      <td>...</td>\n",
       "      <td>...</td>\n",
       "      <td>...</td>\n",
       "      <td>...</td>\n",
       "      <td>...</td>\n",
       "      <td>...</td>\n",
       "      <td>...</td>\n",
       "    </tr>\n",
       "    <tr>\n",
       "      <th>40155</th>\n",
       "      <td>40156</td>\n",
       "      <td>01-08-2024 16:00</td>\n",
       "      <td>07-31-2024 03:00</td>\n",
       "      <td>31-07-2024 05:05</td>\n",
       "      <td>Kolkata</td>\n",
       "      <td>312</td>\n",
       "      <td>COUNTERFEITING</td>\n",
       "      <td>78</td>\n",
       "      <td>F</td>\n",
       "      <td>Firearm</td>\n",
       "      <td>Other Crime</td>\n",
       "      <td>12</td>\n",
       "      <td>No</td>\n",
       "      <td>NaN</td>\n",
       "    </tr>\n",
       "    <tr>\n",
       "      <th>40156</th>\n",
       "      <td>40157</td>\n",
       "      <td>31-07-2024 14:00</td>\n",
       "      <td>07-31-2024 04:00</td>\n",
       "      <td>31-07-2024 04:14</td>\n",
       "      <td>Mumbai</td>\n",
       "      <td>300</td>\n",
       "      <td>ILLEGAL POSSESSION</td>\n",
       "      <td>75</td>\n",
       "      <td>F</td>\n",
       "      <td>None</td>\n",
       "      <td>Other Crime</td>\n",
       "      <td>2</td>\n",
       "      <td>Yes</td>\n",
       "      <td>29-09-2024 14:00</td>\n",
       "    </tr>\n",
       "    <tr>\n",
       "      <th>40157</th>\n",
       "      <td>40158</td>\n",
       "      <td>02-08-2024 03:00</td>\n",
       "      <td>07-31-2024 05:00</td>\n",
       "      <td>31-07-2024 21:33</td>\n",
       "      <td>Kanpur</td>\n",
       "      <td>423</td>\n",
       "      <td>VEHICLE - STOLEN</td>\n",
       "      <td>68</td>\n",
       "      <td>M</td>\n",
       "      <td>Other</td>\n",
       "      <td>Violent Crime</td>\n",
       "      <td>6</td>\n",
       "      <td>No</td>\n",
       "      <td>NaN</td>\n",
       "    </tr>\n",
       "    <tr>\n",
       "      <th>40158</th>\n",
       "      <td>40159</td>\n",
       "      <td>01-08-2024 19:00</td>\n",
       "      <td>07-31-2024 06:00</td>\n",
       "      <td>31-07-2024 11:05</td>\n",
       "      <td>Patna</td>\n",
       "      <td>311</td>\n",
       "      <td>SEXUAL ASSAULT</td>\n",
       "      <td>11</td>\n",
       "      <td>M</td>\n",
       "      <td>Blunt Object</td>\n",
       "      <td>Violent Crime</td>\n",
       "      <td>1</td>\n",
       "      <td>No</td>\n",
       "      <td>NaN</td>\n",
       "    </tr>\n",
       "    <tr>\n",
       "      <th>40159</th>\n",
       "      <td>40160</td>\n",
       "      <td>31-07-2024 17:00</td>\n",
       "      <td>07-31-2024 07:00</td>\n",
       "      <td>31-07-2024 17:19</td>\n",
       "      <td>Delhi</td>\n",
       "      <td>193</td>\n",
       "      <td>DOMESTIC VIOLENCE</td>\n",
       "      <td>43</td>\n",
       "      <td>F</td>\n",
       "      <td>Poison</td>\n",
       "      <td>Violent Crime</td>\n",
       "      <td>7</td>\n",
       "      <td>Yes</td>\n",
       "      <td>28-09-2024 17:00</td>\n",
       "    </tr>\n",
       "  </tbody>\n",
       "</table>\n",
       "<p>40160 rows × 14 columns</p>\n",
       "</div>"
      ],
      "text/plain": [
       "       Report Number     Date Reported Date of Occurrence Time of Occurrence  \\\n",
       "0                  1  02-01-2020 00:00   01-01-2020 00:00   01-01-2020 01:11   \n",
       "1                  2  01-01-2020 19:00   01-01-2020 01:00   01-01-2020 06:26   \n",
       "2                  3  02-01-2020 05:00   01-01-2020 02:00   01-01-2020 14:30   \n",
       "3                  4  01-01-2020 05:00   01-01-2020 03:00   01-01-2020 14:46   \n",
       "4                  5  01-01-2020 21:00   01-01-2020 04:00   01-01-2020 16:51   \n",
       "...              ...               ...                ...                ...   \n",
       "40155          40156  01-08-2024 16:00   07-31-2024 03:00   31-07-2024 05:05   \n",
       "40156          40157  31-07-2024 14:00   07-31-2024 04:00   31-07-2024 04:14   \n",
       "40157          40158  02-08-2024 03:00   07-31-2024 05:00   31-07-2024 21:33   \n",
       "40158          40159  01-08-2024 19:00   07-31-2024 06:00   31-07-2024 11:05   \n",
       "40159          40160  31-07-2024 17:00   07-31-2024 07:00   31-07-2024 17:19   \n",
       "\n",
       "            City  Crime Code   Crime Description  Victim Age Victim Gender  \\\n",
       "0      Ahmedabad         576      IDENTITY THEFT          16             M   \n",
       "1        Chennai         128            HOMICIDE          37             M   \n",
       "2       Ludhiana         271          KIDNAPPING          48             F   \n",
       "3           Pune         170            BURGLARY          49             F   \n",
       "4           Pune         421           VANDALISM          30             F   \n",
       "...          ...         ...                 ...         ...           ...   \n",
       "40155    Kolkata         312      COUNTERFEITING          78             F   \n",
       "40156     Mumbai         300  ILLEGAL POSSESSION          75             F   \n",
       "40157     Kanpur         423    VEHICLE - STOLEN          68             M   \n",
       "40158      Patna         311      SEXUAL ASSAULT          11             M   \n",
       "40159      Delhi         193   DOMESTIC VIOLENCE          43             F   \n",
       "\n",
       "        Weapon Used   Crime Domain  Police Deployed Case Closed  \\\n",
       "0      Blunt Object  Violent Crime               13          No   \n",
       "1            Poison    Other Crime                9          No   \n",
       "2      Blunt Object    Other Crime               15          No   \n",
       "3           Firearm    Other Crime                1         Yes   \n",
       "4             Other    Other Crime               18         Yes   \n",
       "...             ...            ...              ...         ...   \n",
       "40155       Firearm    Other Crime               12          No   \n",
       "40156          None    Other Crime                2         Yes   \n",
       "40157         Other  Violent Crime                6          No   \n",
       "40158  Blunt Object  Violent Crime                1          No   \n",
       "40159        Poison  Violent Crime                7         Yes   \n",
       "\n",
       "       Date Case Closed  \n",
       "0                   NaN  \n",
       "1                   NaN  \n",
       "2                   NaN  \n",
       "3      29-04-2020 05:00  \n",
       "4      08-01-2020 21:00  \n",
       "...                 ...  \n",
       "40155               NaN  \n",
       "40156  29-09-2024 14:00  \n",
       "40157               NaN  \n",
       "40158               NaN  \n",
       "40159  28-09-2024 17:00  \n",
       "\n",
       "[40160 rows x 14 columns]"
      ]
     },
     "execution_count": 126,
     "metadata": {},
     "output_type": "execute_result"
    }
   ],
   "source": [
    "df"
   ]
  },
  {
   "cell_type": "code",
   "execution_count": 127,
   "id": "347abe8f",
   "metadata": {},
   "outputs": [
    {
     "data": {
      "text/plain": [
       "(40160, 14)"
      ]
     },
     "execution_count": 127,
     "metadata": {},
     "output_type": "execute_result"
    }
   ],
   "source": [
    "df.shape"
   ]
  },
  {
   "cell_type": "code",
   "execution_count": 128,
   "id": "b4c69192",
   "metadata": {},
   "outputs": [
    {
     "name": "stdout",
     "output_type": "stream",
     "text": [
      "<class 'pandas.core.frame.DataFrame'>\n",
      "RangeIndex: 40160 entries, 0 to 40159\n",
      "Data columns (total 14 columns):\n",
      " #   Column              Non-Null Count  Dtype \n",
      "---  ------              --------------  ----- \n",
      " 0   Report Number       40160 non-null  int64 \n",
      " 1   Date Reported       40160 non-null  object\n",
      " 2   Date of Occurrence  40160 non-null  object\n",
      " 3   Time of Occurrence  40160 non-null  object\n",
      " 4   City                40160 non-null  object\n",
      " 5   Crime Code          40160 non-null  int64 \n",
      " 6   Crime Description   40160 non-null  object\n",
      " 7   Victim Age          40160 non-null  int64 \n",
      " 8   Victim Gender       40160 non-null  object\n",
      " 9   Weapon Used         40160 non-null  object\n",
      " 10  Crime Domain        40160 non-null  object\n",
      " 11  Police Deployed     40160 non-null  int64 \n",
      " 12  Case Closed         40160 non-null  object\n",
      " 13  Date Case Closed    20062 non-null  object\n",
      "dtypes: int64(4), object(10)\n",
      "memory usage: 4.3+ MB\n"
     ]
    }
   ],
   "source": [
    "df.info()"
   ]
  },
  {
   "cell_type": "code",
   "execution_count": 129,
   "id": "d97ebf9d",
   "metadata": {},
   "outputs": [],
   "source": [
    "df['Date Reported']=pd.to_datetime(df['Date Reported'],format='%d/%m/%Y',errors='coerce',dayfirst=True)"
   ]
  },
  {
   "cell_type": "code",
   "execution_count": 130,
   "id": "e11eaae9",
   "metadata": {},
   "outputs": [
    {
     "name": "stdout",
     "output_type": "stream",
     "text": [
      "<class 'pandas.core.frame.DataFrame'>\n",
      "RangeIndex: 40160 entries, 0 to 40159\n",
      "Data columns (total 14 columns):\n",
      " #   Column              Non-Null Count  Dtype         \n",
      "---  ------              --------------  -----         \n",
      " 0   Report Number       40160 non-null  int64         \n",
      " 1   Date Reported       0 non-null      datetime64[ns]\n",
      " 2   Date of Occurrence  40160 non-null  object        \n",
      " 3   Time of Occurrence  40160 non-null  object        \n",
      " 4   City                40160 non-null  object        \n",
      " 5   Crime Code          40160 non-null  int64         \n",
      " 6   Crime Description   40160 non-null  object        \n",
      " 7   Victim Age          40160 non-null  int64         \n",
      " 8   Victim Gender       40160 non-null  object        \n",
      " 9   Weapon Used         40160 non-null  object        \n",
      " 10  Crime Domain        40160 non-null  object        \n",
      " 11  Police Deployed     40160 non-null  int64         \n",
      " 12  Case Closed         40160 non-null  object        \n",
      " 13  Date Case Closed    20062 non-null  object        \n",
      "dtypes: datetime64[ns](1), int64(4), object(9)\n",
      "memory usage: 4.3+ MB\n"
     ]
    }
   ],
   "source": [
    "df.info()"
   ]
  },
  {
   "cell_type": "code",
   "execution_count": 131,
   "id": "dfdc6a4e",
   "metadata": {},
   "outputs": [],
   "source": [
    "df['Date of Report']=pd.to_datetime(df['Date Reported'].dt.date)"
   ]
  },
  {
   "cell_type": "code",
   "execution_count": 132,
   "id": "867ec510",
   "metadata": {},
   "outputs": [],
   "source": [
    "df['Time of Report']=(df['Date Reported'].dt.time)"
   ]
  },
  {
   "cell_type": "code",
   "execution_count": 133,
   "id": "5c1aa5e6",
   "metadata": {},
   "outputs": [
    {
     "name": "stdout",
     "output_type": "stream",
     "text": [
      "<class 'pandas.core.frame.DataFrame'>\n",
      "RangeIndex: 40160 entries, 0 to 40159\n",
      "Data columns (total 16 columns):\n",
      " #   Column              Non-Null Count  Dtype         \n",
      "---  ------              --------------  -----         \n",
      " 0   Report Number       40160 non-null  int64         \n",
      " 1   Date Reported       0 non-null      datetime64[ns]\n",
      " 2   Date of Occurrence  40160 non-null  object        \n",
      " 3   Time of Occurrence  40160 non-null  object        \n",
      " 4   City                40160 non-null  object        \n",
      " 5   Crime Code          40160 non-null  int64         \n",
      " 6   Crime Description   40160 non-null  object        \n",
      " 7   Victim Age          40160 non-null  int64         \n",
      " 8   Victim Gender       40160 non-null  object        \n",
      " 9   Weapon Used         40160 non-null  object        \n",
      " 10  Crime Domain        40160 non-null  object        \n",
      " 11  Police Deployed     40160 non-null  int64         \n",
      " 12  Case Closed         40160 non-null  object        \n",
      " 13  Date Case Closed    20062 non-null  object        \n",
      " 14  Date of Report      0 non-null      datetime64[ns]\n",
      " 15  Time of Report      0 non-null      datetime64[ns]\n",
      "dtypes: datetime64[ns](3), int64(4), object(9)\n",
      "memory usage: 4.9+ MB\n"
     ]
    }
   ],
   "source": [
    "df.info()"
   ]
  },
  {
   "cell_type": "code",
   "execution_count": 134,
   "id": "6cc1fb91",
   "metadata": {},
   "outputs": [
    {
     "data": {
      "text/html": [
       "<div>\n",
       "<style scoped>\n",
       "    .dataframe tbody tr th:only-of-type {\n",
       "        vertical-align: middle;\n",
       "    }\n",
       "\n",
       "    .dataframe tbody tr th {\n",
       "        vertical-align: top;\n",
       "    }\n",
       "\n",
       "    .dataframe thead th {\n",
       "        text-align: right;\n",
       "    }\n",
       "</style>\n",
       "<table border=\"1\" class=\"dataframe\">\n",
       "  <thead>\n",
       "    <tr style=\"text-align: right;\">\n",
       "      <th></th>\n",
       "      <th>Report Number</th>\n",
       "      <th>Date Reported</th>\n",
       "      <th>Date of Occurrence</th>\n",
       "      <th>Time of Occurrence</th>\n",
       "      <th>City</th>\n",
       "      <th>Crime Code</th>\n",
       "      <th>Crime Description</th>\n",
       "      <th>Victim Age</th>\n",
       "      <th>Victim Gender</th>\n",
       "      <th>Weapon Used</th>\n",
       "      <th>Crime Domain</th>\n",
       "      <th>Police Deployed</th>\n",
       "      <th>Case Closed</th>\n",
       "      <th>Date Case Closed</th>\n",
       "      <th>Date of Report</th>\n",
       "      <th>Time of Report</th>\n",
       "    </tr>\n",
       "  </thead>\n",
       "  <tbody>\n",
       "    <tr>\n",
       "      <th>13876</th>\n",
       "      <td>13877</td>\n",
       "      <td>NaT</td>\n",
       "      <td>08-01-2021 04:00</td>\n",
       "      <td>02-08-2021 02:54</td>\n",
       "      <td>Jaipur</td>\n",
       "      <td>177</td>\n",
       "      <td>IDENTITY THEFT</td>\n",
       "      <td>44</td>\n",
       "      <td>F</td>\n",
       "      <td>Explosives</td>\n",
       "      <td>Violent Crime</td>\n",
       "      <td>12</td>\n",
       "      <td>Yes</td>\n",
       "      <td>26-09-2021 14:00</td>\n",
       "      <td>NaT</td>\n",
       "      <td>NaT</td>\n",
       "    </tr>\n",
       "    <tr>\n",
       "      <th>8363</th>\n",
       "      <td>8364</td>\n",
       "      <td>NaT</td>\n",
       "      <td>12-14-2020 11:00</td>\n",
       "      <td>15-12-2020 06:25</td>\n",
       "      <td>Kanpur</td>\n",
       "      <td>563</td>\n",
       "      <td>SEXUAL ASSAULT</td>\n",
       "      <td>16</td>\n",
       "      <td>F</td>\n",
       "      <td>Poison</td>\n",
       "      <td>Violent Crime</td>\n",
       "      <td>16</td>\n",
       "      <td>No</td>\n",
       "      <td>NaN</td>\n",
       "      <td>NaT</td>\n",
       "      <td>NaT</td>\n",
       "    </tr>\n",
       "    <tr>\n",
       "      <th>9473</th>\n",
       "      <td>9474</td>\n",
       "      <td>NaT</td>\n",
       "      <td>01-29-2021 17:00</td>\n",
       "      <td>30-01-2021 00:42</td>\n",
       "      <td>Pune</td>\n",
       "      <td>116</td>\n",
       "      <td>SEXUAL ASSAULT</td>\n",
       "      <td>68</td>\n",
       "      <td>M</td>\n",
       "      <td>Firearm</td>\n",
       "      <td>Violent Crime</td>\n",
       "      <td>16</td>\n",
       "      <td>No</td>\n",
       "      <td>NaN</td>\n",
       "      <td>NaT</td>\n",
       "      <td>NaT</td>\n",
       "    </tr>\n",
       "  </tbody>\n",
       "</table>\n",
       "</div>"
      ],
      "text/plain": [
       "       Report Number Date Reported Date of Occurrence Time of Occurrence  \\\n",
       "13876          13877           NaT   08-01-2021 04:00   02-08-2021 02:54   \n",
       "8363            8364           NaT   12-14-2020 11:00   15-12-2020 06:25   \n",
       "9473            9474           NaT   01-29-2021 17:00   30-01-2021 00:42   \n",
       "\n",
       "         City  Crime Code Crime Description  Victim Age Victim Gender  \\\n",
       "13876  Jaipur         177    IDENTITY THEFT          44             F   \n",
       "8363   Kanpur         563    SEXUAL ASSAULT          16             F   \n",
       "9473     Pune         116    SEXUAL ASSAULT          68             M   \n",
       "\n",
       "      Weapon Used   Crime Domain  Police Deployed Case Closed  \\\n",
       "13876  Explosives  Violent Crime               12         Yes   \n",
       "8363       Poison  Violent Crime               16          No   \n",
       "9473      Firearm  Violent Crime               16          No   \n",
       "\n",
       "       Date Case Closed Date of Report Time of Report  \n",
       "13876  26-09-2021 14:00            NaT            NaT  \n",
       "8363                NaN            NaT            NaT  \n",
       "9473                NaN            NaT            NaT  "
      ]
     },
     "execution_count": 134,
     "metadata": {},
     "output_type": "execute_result"
    }
   ],
   "source": [
    "df.sample(3)"
   ]
  },
  {
   "cell_type": "code",
   "execution_count": 135,
   "id": "e35bd3bf",
   "metadata": {},
   "outputs": [],
   "source": [
    "df.drop(columns='Date Reported',inplace=True)"
   ]
  },
  {
   "cell_type": "code",
   "execution_count": 136,
   "id": "96b2d9a4",
   "metadata": {},
   "outputs": [
    {
     "data": {
      "text/html": [
       "<div>\n",
       "<style scoped>\n",
       "    .dataframe tbody tr th:only-of-type {\n",
       "        vertical-align: middle;\n",
       "    }\n",
       "\n",
       "    .dataframe tbody tr th {\n",
       "        vertical-align: top;\n",
       "    }\n",
       "\n",
       "    .dataframe thead th {\n",
       "        text-align: right;\n",
       "    }\n",
       "</style>\n",
       "<table border=\"1\" class=\"dataframe\">\n",
       "  <thead>\n",
       "    <tr style=\"text-align: right;\">\n",
       "      <th></th>\n",
       "      <th>Report Number</th>\n",
       "      <th>Date of Occurrence</th>\n",
       "      <th>Time of Occurrence</th>\n",
       "      <th>City</th>\n",
       "      <th>Crime Code</th>\n",
       "      <th>Crime Description</th>\n",
       "      <th>Victim Age</th>\n",
       "      <th>Victim Gender</th>\n",
       "      <th>Weapon Used</th>\n",
       "      <th>Crime Domain</th>\n",
       "      <th>Police Deployed</th>\n",
       "      <th>Case Closed</th>\n",
       "      <th>Date Case Closed</th>\n",
       "      <th>Date of Report</th>\n",
       "      <th>Time of Report</th>\n",
       "    </tr>\n",
       "  </thead>\n",
       "  <tbody>\n",
       "    <tr>\n",
       "      <th>0</th>\n",
       "      <td>1</td>\n",
       "      <td>01-01-2020 00:00</td>\n",
       "      <td>01-01-2020 01:11</td>\n",
       "      <td>Ahmedabad</td>\n",
       "      <td>576</td>\n",
       "      <td>IDENTITY THEFT</td>\n",
       "      <td>16</td>\n",
       "      <td>M</td>\n",
       "      <td>Blunt Object</td>\n",
       "      <td>Violent Crime</td>\n",
       "      <td>13</td>\n",
       "      <td>No</td>\n",
       "      <td>NaN</td>\n",
       "      <td>NaT</td>\n",
       "      <td>NaT</td>\n",
       "    </tr>\n",
       "    <tr>\n",
       "      <th>1</th>\n",
       "      <td>2</td>\n",
       "      <td>01-01-2020 01:00</td>\n",
       "      <td>01-01-2020 06:26</td>\n",
       "      <td>Chennai</td>\n",
       "      <td>128</td>\n",
       "      <td>HOMICIDE</td>\n",
       "      <td>37</td>\n",
       "      <td>M</td>\n",
       "      <td>Poison</td>\n",
       "      <td>Other Crime</td>\n",
       "      <td>9</td>\n",
       "      <td>No</td>\n",
       "      <td>NaN</td>\n",
       "      <td>NaT</td>\n",
       "      <td>NaT</td>\n",
       "    </tr>\n",
       "    <tr>\n",
       "      <th>2</th>\n",
       "      <td>3</td>\n",
       "      <td>01-01-2020 02:00</td>\n",
       "      <td>01-01-2020 14:30</td>\n",
       "      <td>Ludhiana</td>\n",
       "      <td>271</td>\n",
       "      <td>KIDNAPPING</td>\n",
       "      <td>48</td>\n",
       "      <td>F</td>\n",
       "      <td>Blunt Object</td>\n",
       "      <td>Other Crime</td>\n",
       "      <td>15</td>\n",
       "      <td>No</td>\n",
       "      <td>NaN</td>\n",
       "      <td>NaT</td>\n",
       "      <td>NaT</td>\n",
       "    </tr>\n",
       "    <tr>\n",
       "      <th>3</th>\n",
       "      <td>4</td>\n",
       "      <td>01-01-2020 03:00</td>\n",
       "      <td>01-01-2020 14:46</td>\n",
       "      <td>Pune</td>\n",
       "      <td>170</td>\n",
       "      <td>BURGLARY</td>\n",
       "      <td>49</td>\n",
       "      <td>F</td>\n",
       "      <td>Firearm</td>\n",
       "      <td>Other Crime</td>\n",
       "      <td>1</td>\n",
       "      <td>Yes</td>\n",
       "      <td>29-04-2020 05:00</td>\n",
       "      <td>NaT</td>\n",
       "      <td>NaT</td>\n",
       "    </tr>\n",
       "    <tr>\n",
       "      <th>4</th>\n",
       "      <td>5</td>\n",
       "      <td>01-01-2020 04:00</td>\n",
       "      <td>01-01-2020 16:51</td>\n",
       "      <td>Pune</td>\n",
       "      <td>421</td>\n",
       "      <td>VANDALISM</td>\n",
       "      <td>30</td>\n",
       "      <td>F</td>\n",
       "      <td>Other</td>\n",
       "      <td>Other Crime</td>\n",
       "      <td>18</td>\n",
       "      <td>Yes</td>\n",
       "      <td>08-01-2020 21:00</td>\n",
       "      <td>NaT</td>\n",
       "      <td>NaT</td>\n",
       "    </tr>\n",
       "  </tbody>\n",
       "</table>\n",
       "</div>"
      ],
      "text/plain": [
       "   Report Number Date of Occurrence Time of Occurrence       City  Crime Code  \\\n",
       "0              1   01-01-2020 00:00   01-01-2020 01:11  Ahmedabad         576   \n",
       "1              2   01-01-2020 01:00   01-01-2020 06:26    Chennai         128   \n",
       "2              3   01-01-2020 02:00   01-01-2020 14:30   Ludhiana         271   \n",
       "3              4   01-01-2020 03:00   01-01-2020 14:46       Pune         170   \n",
       "4              5   01-01-2020 04:00   01-01-2020 16:51       Pune         421   \n",
       "\n",
       "  Crime Description  Victim Age Victim Gender   Weapon Used   Crime Domain  \\\n",
       "0    IDENTITY THEFT          16             M  Blunt Object  Violent Crime   \n",
       "1          HOMICIDE          37             M        Poison    Other Crime   \n",
       "2        KIDNAPPING          48             F  Blunt Object    Other Crime   \n",
       "3          BURGLARY          49             F       Firearm    Other Crime   \n",
       "4         VANDALISM          30             F         Other    Other Crime   \n",
       "\n",
       "   Police Deployed Case Closed  Date Case Closed Date of Report Time of Report  \n",
       "0               13          No               NaN            NaT            NaT  \n",
       "1                9          No               NaN            NaT            NaT  \n",
       "2               15          No               NaN            NaT            NaT  \n",
       "3                1         Yes  29-04-2020 05:00            NaT            NaT  \n",
       "4               18         Yes  08-01-2020 21:00            NaT            NaT  "
      ]
     },
     "execution_count": 136,
     "metadata": {},
     "output_type": "execute_result"
    }
   ],
   "source": [
    "df.head()"
   ]
  },
  {
   "cell_type": "code",
   "execution_count": 137,
   "id": "394084d1",
   "metadata": {},
   "outputs": [],
   "source": [
    "df['Date of Occurrence']=pd.to_datetime(df['Date of Occurrence'],format='%d/%m/%Y',errors='coerce',dayfirst=True)"
   ]
  },
  {
   "cell_type": "code",
   "execution_count": 138,
   "id": "262e0328",
   "metadata": {},
   "outputs": [],
   "source": [
    "df['Date of Occurrence'] = pd.to_datetime(df['Date of Occurrence'].dt.date)\n"
   ]
  },
  {
   "cell_type": "code",
   "execution_count": 139,
   "id": "8667475a",
   "metadata": {},
   "outputs": [],
   "source": [
    "df['Occurrence Year']=df['Date of Occurrence'].dt.year"
   ]
  },
  {
   "cell_type": "code",
   "execution_count": 140,
   "id": "50ebed00",
   "metadata": {},
   "outputs": [
    {
     "data": {
      "text/plain": [
       "Series([], Name: Occurrence Year, dtype: int64)"
      ]
     },
     "execution_count": 140,
     "metadata": {},
     "output_type": "execute_result"
    }
   ],
   "source": [
    "df['Occurrence Year'].value_counts()"
   ]
  },
  {
   "cell_type": "code",
   "execution_count": 141,
   "id": "4847e2c7",
   "metadata": {},
   "outputs": [
    {
     "name": "stdout",
     "output_type": "stream",
     "text": [
      "<class 'pandas.core.frame.DataFrame'>\n",
      "RangeIndex: 40160 entries, 0 to 40159\n",
      "Data columns (total 16 columns):\n",
      " #   Column              Non-Null Count  Dtype         \n",
      "---  ------              --------------  -----         \n",
      " 0   Report Number       40160 non-null  int64         \n",
      " 1   Date of Occurrence  0 non-null      datetime64[ns]\n",
      " 2   Time of Occurrence  40160 non-null  object        \n",
      " 3   City                40160 non-null  object        \n",
      " 4   Crime Code          40160 non-null  int64         \n",
      " 5   Crime Description   40160 non-null  object        \n",
      " 6   Victim Age          40160 non-null  int64         \n",
      " 7   Victim Gender       40160 non-null  object        \n",
      " 8   Weapon Used         40160 non-null  object        \n",
      " 9   Crime Domain        40160 non-null  object        \n",
      " 10  Police Deployed     40160 non-null  int64         \n",
      " 11  Case Closed         40160 non-null  object        \n",
      " 12  Date Case Closed    20062 non-null  object        \n",
      " 13  Date of Report      0 non-null      datetime64[ns]\n",
      " 14  Time of Report      0 non-null      datetime64[ns]\n",
      " 15  Occurrence Year     0 non-null      float64       \n",
      "dtypes: datetime64[ns](3), float64(1), int64(4), object(8)\n",
      "memory usage: 4.9+ MB\n"
     ]
    }
   ],
   "source": [
    "df.info()"
   ]
  },
  {
   "cell_type": "code",
   "execution_count": 142,
   "id": "6a4d26d7",
   "metadata": {},
   "outputs": [
    {
     "data": {
      "text/plain": [
       "<AxesSubplot:xlabel='City'>"
      ]
     },
     "execution_count": 142,
     "metadata": {},
     "output_type": "execute_result"
    },
    {
     "data": {
      "image/png": "[encoded data removed]",
      "text/plain": [
       "<Figure size 432x288 with 1 Axes>"
      ]
     },
     "metadata": {
      "needs_background": "light"
     },
     "output_type": "display_data"
    }
   ],
   "source": [
    "df.groupby('City')['Report Number'].count().sort_values(ascending=False).head(10).plot(kind='bar')"
   ]
  },
  {
   "cell_type": "code",
   "execution_count": 143,
   "id": "c3b77287",
   "metadata": {},
   "outputs": [
    {
     "data": {
      "text/html": [
       "<div>\n",
       "<style scoped>\n",
       "    .dataframe tbody tr th:only-of-type {\n",
       "        vertical-align: middle;\n",
       "    }\n",
       "\n",
       "    .dataframe tbody tr th {\n",
       "        vertical-align: top;\n",
       "    }\n",
       "\n",
       "    .dataframe thead th {\n",
       "        text-align: right;\n",
       "    }\n",
       "</style>\n",
       "<table border=\"1\" class=\"dataframe\">\n",
       "  <thead>\n",
       "    <tr style=\"text-align: right;\">\n",
       "      <th></th>\n",
       "      <th>Report Number</th>\n",
       "      <th>Date of Occurrence</th>\n",
       "      <th>Time of Occurrence</th>\n",
       "      <th>City</th>\n",
       "      <th>Crime Code</th>\n",
       "      <th>Crime Description</th>\n",
       "      <th>Victim Age</th>\n",
       "      <th>Victim Gender</th>\n",
       "      <th>Weapon Used</th>\n",
       "      <th>Crime Domain</th>\n",
       "      <th>Police Deployed</th>\n",
       "      <th>Case Closed</th>\n",
       "      <th>Date Case Closed</th>\n",
       "      <th>Date of Report</th>\n",
       "      <th>Time of Report</th>\n",
       "      <th>Occurrence Year</th>\n",
       "    </tr>\n",
       "  </thead>\n",
       "  <tbody>\n",
       "    <tr>\n",
       "      <th>0</th>\n",
       "      <td>1</td>\n",
       "      <td>NaT</td>\n",
       "      <td>01-01-2020 01:11</td>\n",
       "      <td>Ahmedabad</td>\n",
       "      <td>576</td>\n",
       "      <td>IDENTITY THEFT</td>\n",
       "      <td>16</td>\n",
       "      <td>M</td>\n",
       "      <td>Blunt Object</td>\n",
       "      <td>Violent Crime</td>\n",
       "      <td>13</td>\n",
       "      <td>No</td>\n",
       "      <td>NaN</td>\n",
       "      <td>NaT</td>\n",
       "      <td>NaT</td>\n",
       "      <td>NaN</td>\n",
       "    </tr>\n",
       "    <tr>\n",
       "      <th>1</th>\n",
       "      <td>2</td>\n",
       "      <td>NaT</td>\n",
       "      <td>01-01-2020 06:26</td>\n",
       "      <td>Chennai</td>\n",
       "      <td>128</td>\n",
       "      <td>HOMICIDE</td>\n",
       "      <td>37</td>\n",
       "      <td>M</td>\n",
       "      <td>Poison</td>\n",
       "      <td>Other Crime</td>\n",
       "      <td>9</td>\n",
       "      <td>No</td>\n",
       "      <td>NaN</td>\n",
       "      <td>NaT</td>\n",
       "      <td>NaT</td>\n",
       "      <td>NaN</td>\n",
       "    </tr>\n",
       "    <tr>\n",
       "      <th>2</th>\n",
       "      <td>3</td>\n",
       "      <td>NaT</td>\n",
       "      <td>01-01-2020 14:30</td>\n",
       "      <td>Ludhiana</td>\n",
       "      <td>271</td>\n",
       "      <td>KIDNAPPING</td>\n",
       "      <td>48</td>\n",
       "      <td>F</td>\n",
       "      <td>Blunt Object</td>\n",
       "      <td>Other Crime</td>\n",
       "      <td>15</td>\n",
       "      <td>No</td>\n",
       "      <td>NaN</td>\n",
       "      <td>NaT</td>\n",
       "      <td>NaT</td>\n",
       "      <td>NaN</td>\n",
       "    </tr>\n",
       "    <tr>\n",
       "      <th>3</th>\n",
       "      <td>4</td>\n",
       "      <td>NaT</td>\n",
       "      <td>01-01-2020 14:46</td>\n",
       "      <td>Pune</td>\n",
       "      <td>170</td>\n",
       "      <td>BURGLARY</td>\n",
       "      <td>49</td>\n",
       "      <td>F</td>\n",
       "      <td>Firearm</td>\n",
       "      <td>Other Crime</td>\n",
       "      <td>1</td>\n",
       "      <td>Yes</td>\n",
       "      <td>29-04-2020 05:00</td>\n",
       "      <td>NaT</td>\n",
       "      <td>NaT</td>\n",
       "      <td>NaN</td>\n",
       "    </tr>\n",
       "    <tr>\n",
       "      <th>4</th>\n",
       "      <td>5</td>\n",
       "      <td>NaT</td>\n",
       "      <td>01-01-2020 16:51</td>\n",
       "      <td>Pune</td>\n",
       "      <td>421</td>\n",
       "      <td>VANDALISM</td>\n",
       "      <td>30</td>\n",
       "      <td>F</td>\n",
       "      <td>Other</td>\n",
       "      <td>Other Crime</td>\n",
       "      <td>18</td>\n",
       "      <td>Yes</td>\n",
       "      <td>08-01-2020 21:00</td>\n",
       "      <td>NaT</td>\n",
       "      <td>NaT</td>\n",
       "      <td>NaN</td>\n",
       "    </tr>\n",
       "  </tbody>\n",
       "</table>\n",
       "</div>"
      ],
      "text/plain": [
       "   Report Number Date of Occurrence Time of Occurrence       City  Crime Code  \\\n",
       "0              1                NaT   01-01-2020 01:11  Ahmedabad         576   \n",
       "1              2                NaT   01-01-2020 06:26    Chennai         128   \n",
       "2              3                NaT   01-01-2020 14:30   Ludhiana         271   \n",
       "3              4                NaT   01-01-2020 14:46       Pune         170   \n",
       "4              5                NaT   01-01-2020 16:51       Pune         421   \n",
       "\n",
       "  Crime Description  Victim Age Victim Gender   Weapon Used   Crime Domain  \\\n",
       "0    IDENTITY THEFT          16             M  Blunt Object  Violent Crime   \n",
       "1          HOMICIDE          37             M        Poison    Other Crime   \n",
       "2        KIDNAPPING          48             F  Blunt Object    Other Crime   \n",
       "3          BURGLARY          49             F       Firearm    Other Crime   \n",
       "4         VANDALISM          30             F         Other    Other Crime   \n",
       "\n",
       "   Police Deployed Case Closed  Date Case Closed Date of Report  \\\n",
       "0               13          No               NaN            NaT   \n",
       "1                9          No               NaN            NaT   \n",
       "2               15          No               NaN            NaT   \n",
       "3                1         Yes  29-04-2020 05:00            NaT   \n",
       "4               18         Yes  08-01-2020 21:00            NaT   \n",
       "\n",
       "  Time of Report  Occurrence Year  \n",
       "0            NaT              NaN  \n",
       "1            NaT              NaN  \n",
       "2            NaT              NaN  \n",
       "3            NaT              NaN  \n",
       "4            NaT              NaN  "
      ]
     },
     "execution_count": 143,
     "metadata": {},
     "output_type": "execute_result"
    }
   ],
   "source": [
    "df.head()"
   ]
  },
  {
   "cell_type": "code",
   "execution_count": 144,
   "id": "d2d6841b",
   "metadata": {},
   "outputs": [],
   "source": [
    "df['Time of Occurrence'] = pd.to_datetime(df['Time of Occurrence'],format='%d/%m/%Y',errors='coerce')\n",
    "df['Time of Occurrence'] = df['Time of Occurrence'].dt.time"
   ]
  },
  {
   "cell_type": "code",
   "execution_count": 145,
   "id": "bf58ce52",
   "metadata": {},
   "outputs": [
    {
     "data": {
      "text/html": [
       "<div>\n",
       "<style scoped>\n",
       "    .dataframe tbody tr th:only-of-type {\n",
       "        vertical-align: middle;\n",
       "    }\n",
       "\n",
       "    .dataframe tbody tr th {\n",
       "        vertical-align: top;\n",
       "    }\n",
       "\n",
       "    .dataframe thead th {\n",
       "        text-align: right;\n",
       "    }\n",
       "</style>\n",
       "<table border=\"1\" class=\"dataframe\">\n",
       "  <thead>\n",
       "    <tr style=\"text-align: right;\">\n",
       "      <th></th>\n",
       "      <th>Report Number</th>\n",
       "      <th>Date of Occurrence</th>\n",
       "      <th>Time of Occurrence</th>\n",
       "      <th>City</th>\n",
       "      <th>Crime Code</th>\n",
       "      <th>Crime Description</th>\n",
       "      <th>Victim Age</th>\n",
       "      <th>Victim Gender</th>\n",
       "      <th>Weapon Used</th>\n",
       "      <th>Crime Domain</th>\n",
       "      <th>Police Deployed</th>\n",
       "      <th>Case Closed</th>\n",
       "      <th>Date Case Closed</th>\n",
       "      <th>Date of Report</th>\n",
       "      <th>Time of Report</th>\n",
       "      <th>Occurrence Year</th>\n",
       "    </tr>\n",
       "  </thead>\n",
       "  <tbody>\n",
       "    <tr>\n",
       "      <th>0</th>\n",
       "      <td>1</td>\n",
       "      <td>NaT</td>\n",
       "      <td>NaT</td>\n",
       "      <td>Ahmedabad</td>\n",
       "      <td>576</td>\n",
       "      <td>IDENTITY THEFT</td>\n",
       "      <td>16</td>\n",
       "      <td>M</td>\n",
       "      <td>Blunt Object</td>\n",
       "      <td>Violent Crime</td>\n",
       "      <td>13</td>\n",
       "      <td>No</td>\n",
       "      <td>NaN</td>\n",
       "      <td>NaT</td>\n",
       "      <td>NaT</td>\n",
       "      <td>NaN</td>\n",
       "    </tr>\n",
       "    <tr>\n",
       "      <th>1</th>\n",
       "      <td>2</td>\n",
       "      <td>NaT</td>\n",
       "      <td>NaT</td>\n",
       "      <td>Chennai</td>\n",
       "      <td>128</td>\n",
       "      <td>HOMICIDE</td>\n",
       "      <td>37</td>\n",
       "      <td>M</td>\n",
       "      <td>Poison</td>\n",
       "      <td>Other Crime</td>\n",
       "      <td>9</td>\n",
       "      <td>No</td>\n",
       "      <td>NaN</td>\n",
       "      <td>NaT</td>\n",
       "      <td>NaT</td>\n",
       "      <td>NaN</td>\n",
       "    </tr>\n",
       "    <tr>\n",
       "      <th>2</th>\n",
       "      <td>3</td>\n",
       "      <td>NaT</td>\n",
       "      <td>NaT</td>\n",
       "      <td>Ludhiana</td>\n",
       "      <td>271</td>\n",
       "      <td>KIDNAPPING</td>\n",
       "      <td>48</td>\n",
       "      <td>F</td>\n",
       "      <td>Blunt Object</td>\n",
       "      <td>Other Crime</td>\n",
       "      <td>15</td>\n",
       "      <td>No</td>\n",
       "      <td>NaN</td>\n",
       "      <td>NaT</td>\n",
       "      <td>NaT</td>\n",
       "      <td>NaN</td>\n",
       "    </tr>\n",
       "    <tr>\n",
       "      <th>3</th>\n",
       "      <td>4</td>\n",
       "      <td>NaT</td>\n",
       "      <td>NaT</td>\n",
       "      <td>Pune</td>\n",
       "      <td>170</td>\n",
       "      <td>BURGLARY</td>\n",
       "      <td>49</td>\n",
       "      <td>F</td>\n",
       "      <td>Firearm</td>\n",
       "      <td>Other Crime</td>\n",
       "      <td>1</td>\n",
       "      <td>Yes</td>\n",
       "      <td>29-04-2020 05:00</td>\n",
       "      <td>NaT</td>\n",
       "      <td>NaT</td>\n",
       "      <td>NaN</td>\n",
       "    </tr>\n",
       "    <tr>\n",
       "      <th>4</th>\n",
       "      <td>5</td>\n",
       "      <td>NaT</td>\n",
       "      <td>NaT</td>\n",
       "      <td>Pune</td>\n",
       "      <td>421</td>\n",
       "      <td>VANDALISM</td>\n",
       "      <td>30</td>\n",
       "      <td>F</td>\n",
       "      <td>Other</td>\n",
       "      <td>Other Crime</td>\n",
       "      <td>18</td>\n",
       "      <td>Yes</td>\n",
       "      <td>08-01-2020 21:00</td>\n",
       "      <td>NaT</td>\n",
       "      <td>NaT</td>\n",
       "      <td>NaN</td>\n",
       "    </tr>\n",
       "  </tbody>\n",
       "</table>\n",
       "</div>"
      ],
      "text/plain": [
       "   Report Number Date of Occurrence Time of Occurrence       City  Crime Code  \\\n",
       "0              1                NaT                NaT  Ahmedabad         576   \n",
       "1              2                NaT                NaT    Chennai         128   \n",
       "2              3                NaT                NaT   Ludhiana         271   \n",
       "3              4                NaT                NaT       Pune         170   \n",
       "4              5                NaT                NaT       Pune         421   \n",
       "\n",
       "  Crime Description  Victim Age Victim Gender   Weapon Used   Crime Domain  \\\n",
       "0    IDENTITY THEFT          16             M  Blunt Object  Violent Crime   \n",
       "1          HOMICIDE          37             M        Poison    Other Crime   \n",
       "2        KIDNAPPING          48             F  Blunt Object    Other Crime   \n",
       "3          BURGLARY          49             F       Firearm    Other Crime   \n",
       "4         VANDALISM          30             F         Other    Other Crime   \n",
       "\n",
       "   Police Deployed Case Closed  Date Case Closed Date of Report  \\\n",
       "0               13          No               NaN            NaT   \n",
       "1                9          No               NaN            NaT   \n",
       "2               15          No               NaN            NaT   \n",
       "3                1         Yes  29-04-2020 05:00            NaT   \n",
       "4               18         Yes  08-01-2020 21:00            NaT   \n",
       "\n",
       "  Time of Report  Occurrence Year  \n",
       "0            NaT              NaN  \n",
       "1            NaT              NaN  \n",
       "2            NaT              NaN  \n",
       "3            NaT              NaN  \n",
       "4            NaT              NaN  "
      ]
     },
     "execution_count": 145,
     "metadata": {},
     "output_type": "execute_result"
    }
   ],
   "source": [
    "df.head()"
   ]
  },
  {
   "cell_type": "code",
   "execution_count": 146,
   "id": "60556b92",
   "metadata": {},
   "outputs": [
    {
     "data": {
      "text/plain": [
       "25    636\n",
       "22    636\n",
       "35    619\n",
       "34    612\n",
       "40    608\n",
       "     ... \n",
       "58    538\n",
       "57    535\n",
       "12    534\n",
       "71    531\n",
       "52    523\n",
       "Name: Victim Age, Length: 70, dtype: int64"
      ]
     },
     "execution_count": 146,
     "metadata": {},
     "output_type": "execute_result"
    }
   ],
   "source": [
    "df['Victim Age'].value_counts()"
   ]
  },
  {
   "cell_type": "code",
   "execution_count": 147,
   "id": "7f783763",
   "metadata": {},
   "outputs": [],
   "source": [
    "bins=[0,12,19,35,60,float('inf')]"
   ]
  },
  {
   "cell_type": "code",
   "execution_count": 148,
   "id": "53bc5a1e",
   "metadata": {},
   "outputs": [],
   "source": [
    "labels=['Child','Teen','Young Adult','Adult','Senior']"
   ]
  },
  {
   "cell_type": "code",
   "execution_count": 149,
   "id": "37bf3934",
   "metadata": {},
   "outputs": [],
   "source": [
    "df['Age Group']=pd.cut(df['Victim Age'],bins=bins,labels=labels).astype('str')"
   ]
  },
  {
   "cell_type": "code",
   "execution_count": 150,
   "id": "bff11801",
   "metadata": {},
   "outputs": [
    {
     "name": "stdout",
     "output_type": "stream",
     "text": [
      "<class 'pandas.core.frame.DataFrame'>\n",
      "RangeIndex: 40160 entries, 0 to 40159\n",
      "Data columns (total 17 columns):\n",
      " #   Column              Non-Null Count  Dtype         \n",
      "---  ------              --------------  -----         \n",
      " 0   Report Number       40160 non-null  int64         \n",
      " 1   Date of Occurrence  0 non-null      datetime64[ns]\n",
      " 2   Time of Occurrence  0 non-null      datetime64[ns]\n",
      " 3   City                40160 non-null  object        \n",
      " 4   Crime Code          40160 non-null  int64         \n",
      " 5   Crime Description   40160 non-null  object        \n",
      " 6   Victim Age          40160 non-null  int64         \n",
      " 7   Victim Gender       40160 non-null  object        \n",
      " 8   Weapon Used         40160 non-null  object        \n",
      " 9   Crime Domain        40160 non-null  object        \n",
      " 10  Police Deployed     40160 non-null  int64         \n",
      " 11  Case Closed         40160 non-null  object        \n",
      " 12  Date Case Closed    20062 non-null  object        \n",
      " 13  Date of Report      0 non-null      datetime64[ns]\n",
      " 14  Time of Report      0 non-null      datetime64[ns]\n",
      " 15  Occurrence Year     0 non-null      float64       \n",
      " 16  Age Group           40160 non-null  object        \n",
      "dtypes: datetime64[ns](4), float64(1), int64(4), object(8)\n",
      "memory usage: 5.2+ MB\n"
     ]
    }
   ],
   "source": [
    "df.info()"
   ]
  },
  {
   "cell_type": "code",
   "execution_count": 151,
   "id": "5d032eb2",
   "metadata": {},
   "outputs": [
    {
     "data": {
      "text/plain": [
       "<AxesSubplot:xlabel='Age Group', ylabel='count'>"
      ]
     },
     "execution_count": 151,
     "metadata": {},
     "output_type": "execute_result"
    },
    {
     "data": {
      "image/png": "[encoded data removed]",
      "text/plain": [
       "<Figure size 432x288 with 1 Axes>"
      ]
     },
     "metadata": {
      "needs_background": "light"
     },
     "output_type": "display_data"
    }
   ],
   "source": [
    "sns.countplot(x='Age Group', data=df, palette='viridis')"
   ]
  },
  {
   "cell_type": "code",
   "execution_count": 152,
   "id": "682a29f6",
   "metadata": {},
   "outputs": [],
   "source": [
    "df['Victim Gender']=df['Victim Gender'].replace(\"X\",\"Other\")"
   ]
  },
  {
   "cell_type": "code",
   "execution_count": 153,
   "id": "48e904e1",
   "metadata": {},
   "outputs": [
    {
     "data": {
      "text/plain": [
       "<AxesSubplot:xlabel='Victim Gender', ylabel='count'>"
      ]
     },
     "execution_count": 153,
     "metadata": {},
     "output_type": "execute_result"
    },
    {
     "data": {
      "image/png": "[encoded data removed]",
      "text/plain": [
       "<Figure size 432x288 with 1 Axes>"
      ]
     },
     "metadata": {
      "needs_background": "light"
     },
     "output_type": "display_data"
    }
   ],
   "source": [
    "sns.countplot(data=df,x='Victim Gender',palette='viridis')"
   ]
  },
  {
   "cell_type": "code",
   "execution_count": 154,
   "id": "884c6b1f",
   "metadata": {},
   "outputs": [
    {
     "data": {
      "text/plain": [
       "Report Number             0\n",
       "Date of Occurrence    40160\n",
       "Time of Occurrence    40160\n",
       "City                      0\n",
       "Crime Code                0\n",
       "Crime Description         0\n",
       "Victim Age                0\n",
       "Victim Gender             0\n",
       "Weapon Used               0\n",
       "Crime Domain              0\n",
       "Police Deployed           0\n",
       "Case Closed               0\n",
       "Date Case Closed      20098\n",
       "Date of Report        40160\n",
       "Time of Report        40160\n",
       "Occurrence Year       40160\n",
       "Age Group                 0\n",
       "dtype: int64"
      ]
     },
     "execution_count": 154,
     "metadata": {},
     "output_type": "execute_result"
    }
   ],
   "source": [
    "df.isnull().sum()"
   ]
  },
  {
   "cell_type": "code",
   "execution_count": 155,
   "id": "91d6c918",
   "metadata": {},
   "outputs": [
    {
     "data": {
      "text/plain": [
       "0"
      ]
     },
     "execution_count": 155,
     "metadata": {},
     "output_type": "execute_result"
    }
   ],
   "source": [
    "df.duplicated().sum()"
   ]
  },
  {
   "cell_type": "code",
   "execution_count": 156,
   "id": "eae5364b",
   "metadata": {},
   "outputs": [
    {
     "data": {
      "text/plain": [
       "Knife           5835\n",
       "None            5790\n",
       "Explosives      5751\n",
       "Blunt Object    5737\n",
       "Poison          5728\n",
       "Other           5676\n",
       "Firearm         5643\n",
       "Name: Weapon Used, dtype: int64"
      ]
     },
     "execution_count": 156,
     "metadata": {},
     "output_type": "execute_result"
    }
   ],
   "source": [
    "df['Weapon Used'].value_counts()"
   ]
  },
  {
   "cell_type": "code",
   "execution_count": 157,
   "id": "3f00ac79",
   "metadata": {},
   "outputs": [],
   "source": [
    "df['Weapon Used']=df['Weapon Used'].fillna(\"Unkonwn\")"
   ]
  },
  {
   "cell_type": "code",
   "execution_count": 158,
   "id": "049e5b62",
   "metadata": {},
   "outputs": [],
   "source": [
    "df['Date Case Closed']=df['Date Case Closed'].fillna(\"Ongoing\")"
   ]
  },
  {
   "cell_type": "code",
   "execution_count": 159,
   "id": "04a1a682",
   "metadata": {},
   "outputs": [
    {
     "name": "stdout",
     "output_type": "stream",
     "text": [
      "<class 'pandas.core.frame.DataFrame'>\n",
      "RangeIndex: 40160 entries, 0 to 40159\n",
      "Data columns (total 17 columns):\n",
      " #   Column              Non-Null Count  Dtype         \n",
      "---  ------              --------------  -----         \n",
      " 0   Report Number       40160 non-null  int64         \n",
      " 1   Date of Occurrence  0 non-null      datetime64[ns]\n",
      " 2   Time of Occurrence  0 non-null      datetime64[ns]\n",
      " 3   City                40160 non-null  object        \n",
      " 4   Crime Code          40160 non-null  int64         \n",
      " 5   Crime Description   40160 non-null  object        \n",
      " 6   Victim Age          40160 non-null  int64         \n",
      " 7   Victim Gender       40160 non-null  object        \n",
      " 8   Weapon Used         40160 non-null  object        \n",
      " 9   Crime Domain        40160 non-null  object        \n",
      " 10  Police Deployed     40160 non-null  int64         \n",
      " 11  Case Closed         40160 non-null  object        \n",
      " 12  Date Case Closed    40160 non-null  object        \n",
      " 13  Date of Report      0 non-null      datetime64[ns]\n",
      " 14  Time of Report      0 non-null      datetime64[ns]\n",
      " 15  Occurrence Year     0 non-null      float64       \n",
      " 16  Age Group           40160 non-null  object        \n",
      "dtypes: datetime64[ns](4), float64(1), int64(4), object(8)\n",
      "memory usage: 5.2+ MB\n"
     ]
    }
   ],
   "source": [
    "df.info()"
   ]
  },
  {
   "cell_type": "code",
   "execution_count": 160,
   "id": "e0059760",
   "metadata": {},
   "outputs": [
    {
     "data": {
      "text/plain": [
       "No     20098\n",
       "Yes    20062\n",
       "Name: Case Closed, dtype: int64"
      ]
     },
     "execution_count": 160,
     "metadata": {},
     "output_type": "execute_result"
    }
   ],
   "source": [
    "df['Case Closed'].value_counts()"
   ]
  },
  {
   "cell_type": "code",
   "execution_count": 161,
   "id": "0ffe7cf2",
   "metadata": {},
   "outputs": [],
   "source": [
    "df['Case Closed']=df['Case Closed'].apply(lambda a:1 if 'Yes' in a else 0)"
   ]
  },
  {
   "cell_type": "code",
   "execution_count": 162,
   "id": "05e3b2af",
   "metadata": {},
   "outputs": [
    {
     "data": {
      "text/html": [
       "<div>\n",
       "<style scoped>\n",
       "    .dataframe tbody tr th:only-of-type {\n",
       "        vertical-align: middle;\n",
       "    }\n",
       "\n",
       "    .dataframe tbody tr th {\n",
       "        vertical-align: top;\n",
       "    }\n",
       "\n",
       "    .dataframe thead th {\n",
       "        text-align: right;\n",
       "    }\n",
       "</style>\n",
       "<table border=\"1\" class=\"dataframe\">\n",
       "  <thead>\n",
       "    <tr style=\"text-align: right;\">\n",
       "      <th></th>\n",
       "      <th>Report Number</th>\n",
       "      <th>Date of Occurrence</th>\n",
       "      <th>Time of Occurrence</th>\n",
       "      <th>City</th>\n",
       "      <th>Crime Code</th>\n",
       "      <th>Crime Description</th>\n",
       "      <th>Victim Age</th>\n",
       "      <th>Victim Gender</th>\n",
       "      <th>Weapon Used</th>\n",
       "      <th>Crime Domain</th>\n",
       "      <th>Police Deployed</th>\n",
       "      <th>Case Closed</th>\n",
       "      <th>Date Case Closed</th>\n",
       "      <th>Date of Report</th>\n",
       "      <th>Time of Report</th>\n",
       "      <th>Occurrence Year</th>\n",
       "      <th>Age Group</th>\n",
       "    </tr>\n",
       "  </thead>\n",
       "  <tbody>\n",
       "    <tr>\n",
       "      <th>0</th>\n",
       "      <td>1</td>\n",
       "      <td>NaT</td>\n",
       "      <td>NaT</td>\n",
       "      <td>Ahmedabad</td>\n",
       "      <td>576</td>\n",
       "      <td>IDENTITY THEFT</td>\n",
       "      <td>16</td>\n",
       "      <td>M</td>\n",
       "      <td>Blunt Object</td>\n",
       "      <td>Violent Crime</td>\n",
       "      <td>13</td>\n",
       "      <td>0</td>\n",
       "      <td>Ongoing</td>\n",
       "      <td>NaT</td>\n",
       "      <td>NaT</td>\n",
       "      <td>NaN</td>\n",
       "      <td>Teen</td>\n",
       "    </tr>\n",
       "    <tr>\n",
       "      <th>1</th>\n",
       "      <td>2</td>\n",
       "      <td>NaT</td>\n",
       "      <td>NaT</td>\n",
       "      <td>Chennai</td>\n",
       "      <td>128</td>\n",
       "      <td>HOMICIDE</td>\n",
       "      <td>37</td>\n",
       "      <td>M</td>\n",
       "      <td>Poison</td>\n",
       "      <td>Other Crime</td>\n",
       "      <td>9</td>\n",
       "      <td>0</td>\n",
       "      <td>Ongoing</td>\n",
       "      <td>NaT</td>\n",
       "      <td>NaT</td>\n",
       "      <td>NaN</td>\n",
       "      <td>Adult</td>\n",
       "    </tr>\n",
       "    <tr>\n",
       "      <th>2</th>\n",
       "      <td>3</td>\n",
       "      <td>NaT</td>\n",
       "      <td>NaT</td>\n",
       "      <td>Ludhiana</td>\n",
       "      <td>271</td>\n",
       "      <td>KIDNAPPING</td>\n",
       "      <td>48</td>\n",
       "      <td>F</td>\n",
       "      <td>Blunt Object</td>\n",
       "      <td>Other Crime</td>\n",
       "      <td>15</td>\n",
       "      <td>0</td>\n",
       "      <td>Ongoing</td>\n",
       "      <td>NaT</td>\n",
       "      <td>NaT</td>\n",
       "      <td>NaN</td>\n",
       "      <td>Adult</td>\n",
       "    </tr>\n",
       "    <tr>\n",
       "      <th>3</th>\n",
       "      <td>4</td>\n",
       "      <td>NaT</td>\n",
       "      <td>NaT</td>\n",
       "      <td>Pune</td>\n",
       "      <td>170</td>\n",
       "      <td>BURGLARY</td>\n",
       "      <td>49</td>\n",
       "      <td>F</td>\n",
       "      <td>Firearm</td>\n",
       "      <td>Other Crime</td>\n",
       "      <td>1</td>\n",
       "      <td>1</td>\n",
       "      <td>29-04-2020 05:00</td>\n",
       "      <td>NaT</td>\n",
       "      <td>NaT</td>\n",
       "      <td>NaN</td>\n",
       "      <td>Adult</td>\n",
       "    </tr>\n",
       "    <tr>\n",
       "      <th>4</th>\n",
       "      <td>5</td>\n",
       "      <td>NaT</td>\n",
       "      <td>NaT</td>\n",
       "      <td>Pune</td>\n",
       "      <td>421</td>\n",
       "      <td>VANDALISM</td>\n",
       "      <td>30</td>\n",
       "      <td>F</td>\n",
       "      <td>Other</td>\n",
       "      <td>Other Crime</td>\n",
       "      <td>18</td>\n",
       "      <td>1</td>\n",
       "      <td>08-01-2020 21:00</td>\n",
       "      <td>NaT</td>\n",
       "      <td>NaT</td>\n",
       "      <td>NaN</td>\n",
       "      <td>Young Adult</td>\n",
       "    </tr>\n",
       "  </tbody>\n",
       "</table>\n",
       "</div>"
      ],
      "text/plain": [
       "   Report Number Date of Occurrence Time of Occurrence       City  Crime Code  \\\n",
       "0              1                NaT                NaT  Ahmedabad         576   \n",
       "1              2                NaT                NaT    Chennai         128   \n",
       "2              3                NaT                NaT   Ludhiana         271   \n",
       "3              4                NaT                NaT       Pune         170   \n",
       "4              5                NaT                NaT       Pune         421   \n",
       "\n",
       "  Crime Description  Victim Age Victim Gender   Weapon Used   Crime Domain  \\\n",
       "0    IDENTITY THEFT          16             M  Blunt Object  Violent Crime   \n",
       "1          HOMICIDE          37             M        Poison    Other Crime   \n",
       "2        KIDNAPPING          48             F  Blunt Object    Other Crime   \n",
       "3          BURGLARY          49             F       Firearm    Other Crime   \n",
       "4         VANDALISM          30             F         Other    Other Crime   \n",
       "\n",
       "   Police Deployed  Case Closed  Date Case Closed Date of Report  \\\n",
       "0               13            0           Ongoing            NaT   \n",
       "1                9            0           Ongoing            NaT   \n",
       "2               15            0           Ongoing            NaT   \n",
       "3                1            1  29-04-2020 05:00            NaT   \n",
       "4               18            1  08-01-2020 21:00            NaT   \n",
       "\n",
       "  Time of Report  Occurrence Year    Age Group  \n",
       "0            NaT              NaN         Teen  \n",
       "1            NaT              NaN        Adult  \n",
       "2            NaT              NaN        Adult  \n",
       "3            NaT              NaN        Adult  \n",
       "4            NaT              NaN  Young Adult  "
      ]
     },
     "execution_count": 162,
     "metadata": {},
     "output_type": "execute_result"
    }
   ],
   "source": [
    "df.head()"
   ]
  },
  {
   "cell_type": "code",
   "execution_count": 163,
   "id": "f7febb5b",
   "metadata": {},
   "outputs": [],
   "source": [
    "df.to_csv(\"Crime_cleaned_data.csv\")"
   ]
  },
  {
   "cell_type": "code",
   "execution_count": 167,
   "id": "3f5a42cf",
   "metadata": {},
   "outputs": [
    {
     "name": "stdout",
     "output_type": "stream",
     "text": [
      "Requirement already satisfied: mysql-connector-python in c:\\users\\siddhi\\appdata\\local\\programs\\python\\python36\\lib\\site-packages (8.0.33)\n",
      "Requirement already satisfied: protobuf<=3.20.3,>=3.11.0 in c:\\users\\siddhi\\appdata\\local\\programs\\python\\python36\\lib\\site-packages (from mysql-connector-python) (3.19.6)\n"
     ]
    }
   ],
   "source": [
    "!pip install mysql-connector-python"
   ]
  },
  {
   "cell_type": "code",
   "execution_count": 1,
   "id": "502776cf",
   "metadata": {},
   "outputs": [
    {
     "ename": "SyntaxError",
     "evalue": "future feature annotations is not defined (abstracts.py, line 33)",
     "output_type": "error",
     "traceback": [
      "Traceback \u001b[1;36m(most recent call last)\u001b[0m:\n",
      "  File \u001b[0;32m\"c:\\users\\siddhi\\appdata\\local\\programs\\python\\python36\\lib\\site-packages\\IPython\\core\\interactiveshell.py\"\u001b[0m, line \u001b[0;32m3343\u001b[0m, in \u001b[0;35mrun_code\u001b[0m\n    exec(code_obj, self.user_global_ns, self.user_ns)\n",
      "  File \u001b[0;32m\"<ipython-input-1-7afe4e418f6c>\"\u001b[0m, line \u001b[0;32m1\u001b[0m, in \u001b[0;35m<module>\u001b[0m\n    import mysql.connector as connection\n",
      "  File \u001b[0;32m\"c:\\users\\siddhi\\appdata\\local\\programs\\python\\python36\\lib\\site-packages\\mysql\\connector\\__init__.py\"\u001b[0m, line \u001b[0;32m32\u001b[0m, in \u001b[0;35m<module>\u001b[0m\n    from .connection_cext import CMySQLConnection\n",
      "\u001b[1;36m  File \u001b[1;32m\"c:\\users\\siddhi\\appdata\\local\\programs\\python\\python36\\lib\\site-packages\\mysql\\connector\\connection_cext.py\"\u001b[1;36m, line \u001b[1;32m40\u001b[1;36m, in \u001b[1;35m<module>\u001b[1;36m\u001b[0m\n\u001b[1;33m    from .abstracts import MySQLConnectionAbstract\u001b[0m\n",
      "\u001b[1;36m  File \u001b[1;32m\"c:\\users\\siddhi\\appdata\\local\\programs\\python\\python36\\lib\\site-packages\\mysql\\connector\\abstracts.py\"\u001b[1;36m, line \u001b[1;32m33\u001b[0m\n\u001b[1;33m    from __future__ import annotations\u001b[0m\n\u001b[1;37m                                      ^\u001b[0m\n\u001b[1;31mSyntaxError\u001b[0m\u001b[1;31m:\u001b[0m future feature annotations is not defined\n"
     ]
    }
   ],
   "source": [
    "import mysql.connector as connection"
   ]
  },
  {
   "cell_type": "code",
   "execution_count": 2,
   "id": "8c04ffdf",
   "metadata": {},
   "outputs": [
    {
     "ename": "SyntaxError",
     "evalue": "unexpected EOF while parsing (<ipython-input-2-9a46e5b1801f>, line 27)",
     "output_type": "error",
     "traceback": [
      "\u001b[1;36m  File \u001b[1;32m\"<ipython-input-2-9a46e5b1801f>\"\u001b[1;36m, line \u001b[1;32m27\u001b[0m\n\u001b[1;33m    \u001b[0m\n\u001b[1;37m    ^\u001b[0m\n\u001b[1;31mSyntaxError\u001b[0m\u001b[1;31m:\u001b[0m unexpected EOF while parsing\n"
     ]
    }
   ],
   "source": [
    "try:\n",
    "    # Connect to MySQL\n",
    "    connection = mysql.connector.connect(\n",
    "        host=\"localhost\",\n",
    "        user=\"root\",\n",
    "        passwd=\"Vish@kh@123\",\n",
    "        use_pure=True\n",
    "    )\n",
    "\n",
    "    if connection.is_connected():\n",
    "        print(\"✅ Connection successful!\")\n",
    "\n",
    "    # Create a cursor\n",
    "    cursor = connection.cursor()\n",
    "\n",
    "    # Create Database\n",
    "    query = \"CREATE DATABASE IF NOT EXISTS Test\"\n",
    "    cursor.execute(query)\n",
    "    print(\"✅ Database 'Test' created successfully!\")\n",
    "    \n",
    "    # Close connection\n",
    "    #cursor.close()\n",
    "    #connection.close()\n",
    "\n",
    "    \n",
    "    \n",
    "    "
   ]
  },
  {
   "cell_type": "code",
   "execution_count": null,
   "id": "82cddf95",
   "metadata": {},
   "outputs": [],
   "source": []
  },
  {
   "cell_type": "code",
   "execution_count": null,
   "id": "e802d923",
   "metadata": {},
   "outputs": [],
   "source": []
  }
 ],
 "metadata": {
  "kernelspec": {
   "display_name": "Python 3 (ipykernel)",
   "language": "python",
   "name": "python3"
  },
  "language_info": {
   "codemirror_mode": {
    "name": "ipython",
    "version": 3
   },
   "file_extension": ".py",
   "mimetype": "text/x-python",
   "name": "python",
   "nbconvert_exporter": "python",
   "pygments_lexer": "ipython3",
   "version": "3.6.4"
  }
 },
 "nbformat": 4,
 "nbformat_minor": 5
}
